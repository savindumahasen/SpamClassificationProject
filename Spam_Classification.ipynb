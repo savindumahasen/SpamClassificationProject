{
  "nbformat": 4,
  "nbformat_minor": 0,
  "metadata": {
    "colab": {
      "provenance": [],
      "mount_file_id": "1bStaeVRQGNlSRf1k9bO3UEid67uG-i86",
      "authorship_tag": "ABX9TyOXSxx5Y4JmcSLLM5xujtEg",
      "include_colab_link": true
    },
    "kernelspec": {
      "name": "python3",
      "display_name": "Python 3"
    },
    "language_info": {
      "name": "python"
    }
  },
  "cells": [
    {
      "cell_type": "markdown",
      "metadata": {
        "id": "view-in-github",
        "colab_type": "text"
      },
      "source": [
        "<a href=\"https://colab.research.google.com/github/savindumahasen/SpamClassificationProject/blob/main/Spam_Classification.ipynb\" target=\"_parent\"><img src=\"https://colab.research.google.com/assets/colab-badge.svg\" alt=\"Open In Colab\"/></a>"
      ]
    },
    {
      "cell_type": "code",
      "source": [],
      "metadata": {
        "id": "t-yjyoAdwc_2"
      },
      "execution_count": null,
      "outputs": []
    },
    {
      "cell_type": "markdown",
      "source": [
        "# SMS spam classification using NLP"
      ],
      "metadata": {
        "id": "bg6ca4QHwhT5"
      }
    },
    {
      "cell_type": "markdown",
      "source": [
        "## Reading data and visualization"
      ],
      "metadata": {
        "id": "vK6-ic6Ywph_"
      }
    },
    {
      "cell_type": "code",
      "source": [
        "## import modules"
      ],
      "metadata": {
        "id": "kn8Wu9hMwsaD"
      },
      "execution_count": 2,
      "outputs": []
    },
    {
      "cell_type": "code",
      "source": [
        "import pandas as pd\n",
        "import nltk"
      ],
      "metadata": {
        "id": "R5XDlG1Rw8hS"
      },
      "execution_count": 3,
      "outputs": []
    },
    {
      "cell_type": "code",
      "source": [],
      "metadata": {
        "id": "YPArNo_KxGWL"
      },
      "execution_count": null,
      "outputs": []
    }
  ]
}