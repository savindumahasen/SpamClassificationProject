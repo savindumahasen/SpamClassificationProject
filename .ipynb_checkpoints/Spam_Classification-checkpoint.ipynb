{
 "cells": [
  {
   "cell_type": "markdown",
   "metadata": {
    "id": "bg6ca4QHwhT5"
   },
   "source": [
    "# SMS spam classification using NLP"
   ]
  },
  {
   "cell_type": "markdown",
   "metadata": {
    "id": "vK6-ic6Ywph_"
   },
   "source": [
    "## Reading data and visualization"
   ]
  },
  {
   "cell_type": "code",
   "execution_count": 1,
   "metadata": {
    "id": "kn8Wu9hMwsaD"
   },
   "outputs": [],
   "source": [
    "## import modules"
   ]
  },
  {
   "cell_type": "code",
   "execution_count": 2,
   "metadata": {
    "id": "R5XDlG1Rw8hS"
   },
   "outputs": [],
   "source": [
    "import pandas as pd\n",
    "import nltk"
   ]
  },
  {
   "cell_type": "code",
   "execution_count": null,
   "metadata": {
    "id": "YPArNo_KxGWL"
   },
   "outputs": [],
   "source": []
  },
  {
   "cell_type": "markdown",
   "metadata": {
    "id": "d9g660Cyytqz"
   },
   "source": [
    "### Reading the dataset"
   ]
  },
  {
   "cell_type": "code",
   "execution_count": 3,
   "metadata": {
    "id": "acgTGY35yviD"
   },
   "outputs": [],
   "source": [
    "df=pd.read_csv('spam.csv', encoding='latin-1')"
   ]
  },
  {
   "cell_type": "code",
   "execution_count": 4,
   "metadata": {
    "colab": {
     "base_uri": "https://localhost:8080/",
     "height": 206
    },
    "id": "LQSv0SGxy6Z7",
    "outputId": "bd79b8cc-da89-40a1-8391-e7061d3e5feb"
   },
   "outputs": [
    {
     "data": {
      "text/html": [
       "<div>\n",
       "<style scoped>\n",
       "    .dataframe tbody tr th:only-of-type {\n",
       "        vertical-align: middle;\n",
       "    }\n",
       "\n",
       "    .dataframe tbody tr th {\n",
       "        vertical-align: top;\n",
       "    }\n",
       "\n",
       "    .dataframe thead th {\n",
       "        text-align: right;\n",
       "    }\n",
       "</style>\n",
       "<table border=\"1\" class=\"dataframe\">\n",
       "  <thead>\n",
       "    <tr style=\"text-align: right;\">\n",
       "      <th></th>\n",
       "      <th>v1</th>\n",
       "      <th>v2</th>\n",
       "      <th>Unnamed: 2</th>\n",
       "      <th>Unnamed: 3</th>\n",
       "      <th>Unnamed: 4</th>\n",
       "    </tr>\n",
       "  </thead>\n",
       "  <tbody>\n",
       "    <tr>\n",
       "      <th>0</th>\n",
       "      <td>ham</td>\n",
       "      <td>Go until jurong point, crazy.. Available only ...</td>\n",
       "      <td>NaN</td>\n",
       "      <td>NaN</td>\n",
       "      <td>NaN</td>\n",
       "    </tr>\n",
       "    <tr>\n",
       "      <th>1</th>\n",
       "      <td>ham</td>\n",
       "      <td>Ok lar... Joking wif u oni...</td>\n",
       "      <td>NaN</td>\n",
       "      <td>NaN</td>\n",
       "      <td>NaN</td>\n",
       "    </tr>\n",
       "    <tr>\n",
       "      <th>2</th>\n",
       "      <td>spam</td>\n",
       "      <td>Free entry in 2 a wkly comp to win FA Cup fina...</td>\n",
       "      <td>NaN</td>\n",
       "      <td>NaN</td>\n",
       "      <td>NaN</td>\n",
       "    </tr>\n",
       "    <tr>\n",
       "      <th>3</th>\n",
       "      <td>ham</td>\n",
       "      <td>U dun say so early hor... U c already then say...</td>\n",
       "      <td>NaN</td>\n",
       "      <td>NaN</td>\n",
       "      <td>NaN</td>\n",
       "    </tr>\n",
       "    <tr>\n",
       "      <th>4</th>\n",
       "      <td>ham</td>\n",
       "      <td>Nah I don't think he goes to usf, he lives aro...</td>\n",
       "      <td>NaN</td>\n",
       "      <td>NaN</td>\n",
       "      <td>NaN</td>\n",
       "    </tr>\n",
       "  </tbody>\n",
       "</table>\n",
       "</div>"
      ],
      "text/plain": [
       "     v1                                                 v2 Unnamed: 2  \\\n",
       "0   ham  Go until jurong point, crazy.. Available only ...        NaN   \n",
       "1   ham                      Ok lar... Joking wif u oni...        NaN   \n",
       "2  spam  Free entry in 2 a wkly comp to win FA Cup fina...        NaN   \n",
       "3   ham  U dun say so early hor... U c already then say...        NaN   \n",
       "4   ham  Nah I don't think he goes to usf, he lives aro...        NaN   \n",
       "\n",
       "  Unnamed: 3 Unnamed: 4  \n",
       "0        NaN        NaN  \n",
       "1        NaN        NaN  \n",
       "2        NaN        NaN  \n",
       "3        NaN        NaN  \n",
       "4        NaN        NaN  "
      ]
     },
     "execution_count": 4,
     "metadata": {},
     "output_type": "execute_result"
    }
   ],
   "source": [
    "df.head(5)"
   ]
  },
  {
   "cell_type": "code",
   "execution_count": 5,
   "metadata": {
    "colab": {
     "base_uri": "https://localhost:8080/"
    },
    "id": "6vRxQUREy_LH",
    "outputId": "6f985b74-a55b-47ce-96fa-f29f8500ea8c"
   },
   "outputs": [
    {
     "data": {
      "text/plain": [
       "(5572, 5)"
      ]
     },
     "execution_count": 5,
     "metadata": {},
     "output_type": "execute_result"
    }
   ],
   "source": [
    "df.shape"
   ]
  },
  {
   "cell_type": "code",
   "execution_count": 6,
   "metadata": {
    "id": "TSDyCIBi074W"
   },
   "outputs": [],
   "source": [
    "df.drop(columns=['Unnamed: 2', 'Unnamed: 3', 'Unnamed: 4'], inplace=True)"
   ]
  },
  {
   "cell_type": "code",
   "execution_count": 7,
   "metadata": {
    "colab": {
     "base_uri": "https://localhost:8080/",
     "height": 206
    },
    "id": "dvD_Pzrv1P6U",
    "outputId": "6c2f36fd-7a64-4455-bd2f-87059e600efe"
   },
   "outputs": [
    {
     "data": {
      "text/html": [
       "<div>\n",
       "<style scoped>\n",
       "    .dataframe tbody tr th:only-of-type {\n",
       "        vertical-align: middle;\n",
       "    }\n",
       "\n",
       "    .dataframe tbody tr th {\n",
       "        vertical-align: top;\n",
       "    }\n",
       "\n",
       "    .dataframe thead th {\n",
       "        text-align: right;\n",
       "    }\n",
       "</style>\n",
       "<table border=\"1\" class=\"dataframe\">\n",
       "  <thead>\n",
       "    <tr style=\"text-align: right;\">\n",
       "      <th></th>\n",
       "      <th>class</th>\n",
       "      <th>sms</th>\n",
       "    </tr>\n",
       "  </thead>\n",
       "  <tbody>\n",
       "    <tr>\n",
       "      <th>5307</th>\n",
       "      <td>ham</td>\n",
       "      <td>What you did in  leave.</td>\n",
       "    </tr>\n",
       "    <tr>\n",
       "      <th>4603</th>\n",
       "      <td>ham</td>\n",
       "      <td>THANX 4 PUTTIN DA FONE DOWN ON ME!!</td>\n",
       "    </tr>\n",
       "    <tr>\n",
       "      <th>3627</th>\n",
       "      <td>ham</td>\n",
       "      <td>Meeting u is my work. . . Tel me when shall i ...</td>\n",
       "    </tr>\n",
       "    <tr>\n",
       "      <th>2183</th>\n",
       "      <td>ham</td>\n",
       "      <td>Chinatown got porridge, claypot rice, yam cake...</td>\n",
       "    </tr>\n",
       "    <tr>\n",
       "      <th>3776</th>\n",
       "      <td>spam</td>\n",
       "      <td>Mila, age23, blonde, new in UK. I look sex wit...</td>\n",
       "    </tr>\n",
       "    <tr>\n",
       "      <th>4487</th>\n",
       "      <td>ham</td>\n",
       "      <td>Call me when you get the chance plz &amp;lt;3</td>\n",
       "    </tr>\n",
       "    <tr>\n",
       "      <th>3314</th>\n",
       "      <td>spam</td>\n",
       "      <td>FREE MESSAGE Activate your 500 FREE Text Messa...</td>\n",
       "    </tr>\n",
       "    <tr>\n",
       "      <th>15</th>\n",
       "      <td>spam</td>\n",
       "      <td>XXXMobileMovieClub: To use your credit, click ...</td>\n",
       "    </tr>\n",
       "    <tr>\n",
       "      <th>5556</th>\n",
       "      <td>ham</td>\n",
       "      <td>Yes i have. So that's why u texted. Pshew...mi...</td>\n",
       "    </tr>\n",
       "    <tr>\n",
       "      <th>4362</th>\n",
       "      <td>ham</td>\n",
       "      <td>Evry Emotion dsn't hav Words.Evry Wish dsn't h...</td>\n",
       "    </tr>\n",
       "  </tbody>\n",
       "</table>\n",
       "</div>"
      ],
      "text/plain": [
       "     class                                                sms\n",
       "5307   ham                            What you did in  leave.\n",
       "4603   ham                THANX 4 PUTTIN DA FONE DOWN ON ME!!\n",
       "3627   ham  Meeting u is my work. . . Tel me when shall i ...\n",
       "2183   ham  Chinatown got porridge, claypot rice, yam cake...\n",
       "3776  spam  Mila, age23, blonde, new in UK. I look sex wit...\n",
       "4487   ham          Call me when you get the chance plz &lt;3\n",
       "3314  spam  FREE MESSAGE Activate your 500 FREE Text Messa...\n",
       "15    spam  XXXMobileMovieClub: To use your credit, click ...\n",
       "5556   ham  Yes i have. So that's why u texted. Pshew...mi...\n",
       "4362   ham  Evry Emotion dsn't hav Words.Evry Wish dsn't h..."
      ]
     },
     "execution_count": 7,
     "metadata": {},
     "output_type": "execute_result"
    }
   ],
   "source": [
    "df.rename(columns={'v1':'class', 'v2':'sms'}, inplace=True)\n",
    "df.sample(10)"
   ]
  },
  {
   "cell_type": "code",
   "execution_count": 8,
   "metadata": {
    "colab": {
     "base_uri": "https://localhost:8080/",
     "height": 175
    },
    "id": "9S0c8jNB2iyT",
    "outputId": "cd9d7dbb-3718-4264-fecf-f7dad1969c2f"
   },
   "outputs": [
    {
     "data": {
      "text/html": [
       "<div>\n",
       "<style scoped>\n",
       "    .dataframe tbody tr th:only-of-type {\n",
       "        vertical-align: middle;\n",
       "    }\n",
       "\n",
       "    .dataframe tbody tr th {\n",
       "        vertical-align: top;\n",
       "    }\n",
       "\n",
       "    .dataframe thead tr th {\n",
       "        text-align: left;\n",
       "    }\n",
       "\n",
       "    .dataframe thead tr:last-of-type th {\n",
       "        text-align: right;\n",
       "    }\n",
       "</style>\n",
       "<table border=\"1\" class=\"dataframe\">\n",
       "  <thead>\n",
       "    <tr>\n",
       "      <th></th>\n",
       "      <th colspan=\"4\" halign=\"left\">sms</th>\n",
       "    </tr>\n",
       "    <tr>\n",
       "      <th></th>\n",
       "      <th>count</th>\n",
       "      <th>unique</th>\n",
       "      <th>top</th>\n",
       "      <th>freq</th>\n",
       "    </tr>\n",
       "    <tr>\n",
       "      <th>class</th>\n",
       "      <th></th>\n",
       "      <th></th>\n",
       "      <th></th>\n",
       "      <th></th>\n",
       "    </tr>\n",
       "  </thead>\n",
       "  <tbody>\n",
       "    <tr>\n",
       "      <th>ham</th>\n",
       "      <td>4825</td>\n",
       "      <td>4516</td>\n",
       "      <td>Sorry, I'll call later</td>\n",
       "      <td>30</td>\n",
       "    </tr>\n",
       "    <tr>\n",
       "      <th>spam</th>\n",
       "      <td>747</td>\n",
       "      <td>653</td>\n",
       "      <td>Please call our customer service representativ...</td>\n",
       "      <td>4</td>\n",
       "    </tr>\n",
       "  </tbody>\n",
       "</table>\n",
       "</div>"
      ],
      "text/plain": [
       "        sms                                                               \n",
       "      count unique                                                top freq\n",
       "class                                                                     \n",
       "ham    4825   4516                             Sorry, I'll call later   30\n",
       "spam    747    653  Please call our customer service representativ...    4"
      ]
     },
     "execution_count": 8,
     "metadata": {},
     "output_type": "execute_result"
    }
   ],
   "source": [
    "df.groupby('class').describe()"
   ]
  },
  {
   "cell_type": "code",
   "execution_count": 9,
   "metadata": {
    "colab": {
     "base_uri": "https://localhost:8080/",
     "height": 175
    },
    "id": "WozWPSvl4b8s",
    "outputId": "303e5c6c-6a9c-44e0-975a-6666b4feaa9d"
   },
   "outputs": [
    {
     "data": {
      "text/html": [
       "<div>\n",
       "<style scoped>\n",
       "    .dataframe tbody tr th:only-of-type {\n",
       "        vertical-align: middle;\n",
       "    }\n",
       "\n",
       "    .dataframe tbody tr th {\n",
       "        vertical-align: top;\n",
       "    }\n",
       "\n",
       "    .dataframe thead tr th {\n",
       "        text-align: left;\n",
       "    }\n",
       "\n",
       "    .dataframe thead tr:last-of-type th {\n",
       "        text-align: right;\n",
       "    }\n",
       "</style>\n",
       "<table border=\"1\" class=\"dataframe\">\n",
       "  <thead>\n",
       "    <tr>\n",
       "      <th></th>\n",
       "      <th colspan=\"4\" halign=\"left\">sms</th>\n",
       "    </tr>\n",
       "    <tr>\n",
       "      <th></th>\n",
       "      <th>count</th>\n",
       "      <th>unique</th>\n",
       "      <th>top</th>\n",
       "      <th>freq</th>\n",
       "    </tr>\n",
       "    <tr>\n",
       "      <th>class</th>\n",
       "      <th></th>\n",
       "      <th></th>\n",
       "      <th></th>\n",
       "      <th></th>\n",
       "    </tr>\n",
       "  </thead>\n",
       "  <tbody>\n",
       "    <tr>\n",
       "      <th>ham</th>\n",
       "      <td>4516</td>\n",
       "      <td>4516</td>\n",
       "      <td>Go until jurong point, crazy.. Available only ...</td>\n",
       "      <td>1</td>\n",
       "    </tr>\n",
       "    <tr>\n",
       "      <th>spam</th>\n",
       "      <td>653</td>\n",
       "      <td>653</td>\n",
       "      <td>Free entry in 2 a wkly comp to win FA Cup fina...</td>\n",
       "      <td>1</td>\n",
       "    </tr>\n",
       "  </tbody>\n",
       "</table>\n",
       "</div>"
      ],
      "text/plain": [
       "        sms                                                               \n",
       "      count unique                                                top freq\n",
       "class                                                                     \n",
       "ham    4516   4516  Go until jurong point, crazy.. Available only ...    1\n",
       "spam    653    653  Free entry in 2 a wkly comp to win FA Cup fina...    1"
      ]
     },
     "execution_count": 9,
     "metadata": {},
     "output_type": "execute_result"
    }
   ],
   "source": [
    "df = df.drop_duplicates(keep='first')\n",
    "df.groupby('class').describe()"
   ]
  },
  {
   "cell_type": "code",
   "execution_count": null,
   "metadata": {
    "id": "6sIqNTb84l34"
   },
   "outputs": [],
   "source": []
  },
  {
   "cell_type": "markdown",
   "metadata": {
    "id": "L430TuGb6Wm-"
   },
   "source": [
    "## Data Visualization"
   ]
  },
  {
   "cell_type": "code",
   "execution_count": 10,
   "metadata": {
    "colab": {
     "base_uri": "https://localhost:8080/",
     "height": 310
    },
    "id": "2WOK_rHA6ZHK",
    "outputId": "4655b090-d733-413a-89be-ccc00b306812"
   },
   "outputs": [
    {
     "data": {
      "text/html": [
       "<div>\n",
       "<style scoped>\n",
       "    .dataframe tbody tr th:only-of-type {\n",
       "        vertical-align: middle;\n",
       "    }\n",
       "\n",
       "    .dataframe tbody tr th {\n",
       "        vertical-align: top;\n",
       "    }\n",
       "\n",
       "    .dataframe thead th {\n",
       "        text-align: right;\n",
       "    }\n",
       "</style>\n",
       "<table border=\"1\" class=\"dataframe\">\n",
       "  <thead>\n",
       "    <tr style=\"text-align: right;\">\n",
       "      <th></th>\n",
       "      <th>class</th>\n",
       "      <th>sms</th>\n",
       "      <th>Length</th>\n",
       "    </tr>\n",
       "  </thead>\n",
       "  <tbody>\n",
       "    <tr>\n",
       "      <th>0</th>\n",
       "      <td>ham</td>\n",
       "      <td>Go until jurong point, crazy.. Available only ...</td>\n",
       "      <td>111</td>\n",
       "    </tr>\n",
       "    <tr>\n",
       "      <th>1</th>\n",
       "      <td>ham</td>\n",
       "      <td>Ok lar... Joking wif u oni...</td>\n",
       "      <td>29</td>\n",
       "    </tr>\n",
       "    <tr>\n",
       "      <th>2</th>\n",
       "      <td>spam</td>\n",
       "      <td>Free entry in 2 a wkly comp to win FA Cup fina...</td>\n",
       "      <td>155</td>\n",
       "    </tr>\n",
       "    <tr>\n",
       "      <th>3</th>\n",
       "      <td>ham</td>\n",
       "      <td>U dun say so early hor... U c already then say...</td>\n",
       "      <td>49</td>\n",
       "    </tr>\n",
       "    <tr>\n",
       "      <th>4</th>\n",
       "      <td>ham</td>\n",
       "      <td>Nah I don't think he goes to usf, he lives aro...</td>\n",
       "      <td>61</td>\n",
       "    </tr>\n",
       "  </tbody>\n",
       "</table>\n",
       "</div>"
      ],
      "text/plain": [
       "  class                                                sms  Length\n",
       "0   ham  Go until jurong point, crazy.. Available only ...     111\n",
       "1   ham                      Ok lar... Joking wif u oni...      29\n",
       "2  spam  Free entry in 2 a wkly comp to win FA Cup fina...     155\n",
       "3   ham  U dun say so early hor... U c already then say...      49\n",
       "4   ham  Nah I don't think he goes to usf, he lives aro...      61"
      ]
     },
     "execution_count": 10,
     "metadata": {},
     "output_type": "execute_result"
    }
   ],
   "source": [
    "df['Length'] = df['sms'].apply(len)\n",
    "df.head(5)"
   ]
  },
  {
   "cell_type": "code",
   "execution_count": 11,
   "metadata": {
    "colab": {
     "base_uri": "https://localhost:8080/",
     "height": 490
    },
    "id": "bZTsU2W36hyQ",
    "outputId": "c62f7454-c9cc-4653-c684-df54138a55f2"
   },
   "outputs": [
    {
     "data": {
      "text/plain": [
       "array([<Axes: title={'center': 'ham'}>, <Axes: title={'center': 'spam'}>],\n",
       "      dtype=object)"
      ]
     },
     "execution_count": 11,
     "metadata": {},
     "output_type": "execute_result"
    },
    {
     "data": {
      "image/png": "[encoded data removed]",
      "text/plain": [
       "<Figure size 640x480 with 2 Axes>"
      ]
     },
     "metadata": {},
     "output_type": "display_data"
    }
   ],
   "source": [
    "df.hist(column='Length', by='class', bins=50)"
   ]
  },
  {
   "cell_type": "markdown",
   "metadata": {
    "id": "e_6XSAlL7sWr"
   },
   "source": [
    "## Data Preprocessing"
   ]
  },
  {
   "cell_type": "code",
   "execution_count": 12,
   "metadata": {
    "colab": {
     "base_uri": "https://localhost:8080/"
    },
    "id": "suQJwp1J7umu",
    "outputId": "9a7a31db-c402-44a7-9ab3-1e84a32c002a"
   },
   "outputs": [
    {
     "name": "stderr",
     "output_type": "stream",
     "text": [
      "[nltk_data] Downloading package stopwords to C:\\Users\\THIS\n",
      "[nltk_data]     PC\\AppData\\Roaming\\nltk_data...\n",
      "[nltk_data]   Package stopwords is already up-to-date!\n",
      "[nltk_data] Downloading package punkt to C:\\Users\\THIS\n",
      "[nltk_data]     PC\\AppData\\Roaming\\nltk_data...\n",
      "[nltk_data]   Package punkt is already up-to-date!\n"
     ]
    }
   ],
   "source": [
    "from nltk.stem.porter import PorterStemmer\n",
    "\n",
    "nltk.download('stopwords')\n",
    "\n",
    "from nltk.corpus import stopwords\n",
    "\n",
    "nltk.download('punkt')\n",
    "ps = PorterStemmer()"
   ]
  },
  {
   "cell_type": "code",
   "execution_count": 13,
   "metadata": {
    "colab": {
     "base_uri": "https://localhost:8080/",
     "height": 206
    },
    "id": "sPaFp2nK9u59",
    "outputId": "91214e90-846c-4da9-8af8-c2e603c6e7e4"
   },
   "outputs": [
    {
     "data": {
      "text/html": [
       "<div>\n",
       "<style scoped>\n",
       "    .dataframe tbody tr th:only-of-type {\n",
       "        vertical-align: middle;\n",
       "    }\n",
       "\n",
       "    .dataframe tbody tr th {\n",
       "        vertical-align: top;\n",
       "    }\n",
       "\n",
       "    .dataframe thead th {\n",
       "        text-align: right;\n",
       "    }\n",
       "</style>\n",
       "<table border=\"1\" class=\"dataframe\">\n",
       "  <thead>\n",
       "    <tr style=\"text-align: right;\">\n",
       "      <th></th>\n",
       "      <th>class</th>\n",
       "      <th>sms</th>\n",
       "      <th>Length</th>\n",
       "    </tr>\n",
       "  </thead>\n",
       "  <tbody>\n",
       "    <tr>\n",
       "      <th>0</th>\n",
       "      <td>ham</td>\n",
       "      <td>Go until jurong point, crazy.. Available only ...</td>\n",
       "      <td>111</td>\n",
       "    </tr>\n",
       "    <tr>\n",
       "      <th>1</th>\n",
       "      <td>ham</td>\n",
       "      <td>Ok lar... Joking wif u oni...</td>\n",
       "      <td>29</td>\n",
       "    </tr>\n",
       "    <tr>\n",
       "      <th>2</th>\n",
       "      <td>spam</td>\n",
       "      <td>Free entry in 2 a wkly comp to win FA Cup fina...</td>\n",
       "      <td>155</td>\n",
       "    </tr>\n",
       "    <tr>\n",
       "      <th>3</th>\n",
       "      <td>ham</td>\n",
       "      <td>U dun say so early hor... U c already then say...</td>\n",
       "      <td>49</td>\n",
       "    </tr>\n",
       "    <tr>\n",
       "      <th>4</th>\n",
       "      <td>ham</td>\n",
       "      <td>Nah I don't think he goes to usf, he lives aro...</td>\n",
       "      <td>61</td>\n",
       "    </tr>\n",
       "  </tbody>\n",
       "</table>\n",
       "</div>"
      ],
      "text/plain": [
       "  class                                                sms  Length\n",
       "0   ham  Go until jurong point, crazy.. Available only ...     111\n",
       "1   ham                      Ok lar... Joking wif u oni...      29\n",
       "2  spam  Free entry in 2 a wkly comp to win FA Cup fina...     155\n",
       "3   ham  U dun say so early hor... U c already then say...      49\n",
       "4   ham  Nah I don't think he goes to usf, he lives aro...      61"
      ]
     },
     "execution_count": 13,
     "metadata": {},
     "output_type": "execute_result"
    }
   ],
   "source": [
    "df.head()"
   ]
  },
  {
   "cell_type": "code",
   "execution_count": null,
   "metadata": {
    "id": "wITRN4vl-P-o"
   },
   "outputs": [],
   "source": []
  },
  {
   "cell_type": "markdown",
   "metadata": {
    "id": "Q_8cfxj9-eIC"
   },
   "source": [
    "### Preprocessing tasks\n",
    "      #### Lower Case\n",
    "      #### Tokernization\n",
    "      #### Removing special character\n",
    "      #### Removing the punctutations, and stop words\n",
    "      #### Stemming"
   ]
  },
  {
   "cell_type": "code",
   "execution_count": 14,
   "metadata": {
    "colab": {
     "base_uri": "https://localhost:8080/"
    },
    "id": "O1ccAdkm-82z",
    "outputId": "7e284104-b8a1-4d06-e7a9-5d2d031ce332"
   },
   "outputs": [
    {
     "name": "stderr",
     "output_type": "stream",
     "text": [
      "[nltk_data] Downloading package punkt to C:\\Users\\THIS\n",
      "[nltk_data]     PC\\AppData\\Roaming\\nltk_data...\n",
      "[nltk_data]   Package punkt is already up-to-date!\n",
      "[nltk_data] Downloading package stopwords to C:\\Users\\THIS\n",
      "[nltk_data]     PC\\AppData\\Roaming\\nltk_data...\n",
      "[nltk_data]   Package stopwords is already up-to-date!\n"
     ]
    }
   ],
   "source": [
    "import string\n",
    "import nltk\n",
    "from nltk.corpus import stopwords\n",
    "from nltk.stem import PorterStemmer\n",
    "\n",
    "# Download necessary NLTK data\n",
    "nltk.download('punkt')\n",
    "nltk.download('stopwords')\n",
    "\n",
    "# Initialize stemmer and stop words\n",
    "ps = PorterStemmer()\n",
    "stop_words = set(stopwords.words('english'))\n",
    "\n",
    "def clean_text(text):\n",
    "    # Convert text to lowercase\n",
    "    text = text.lower()\n",
    "\n",
    "    # Tokenize the text\n",
    "    text = nltk.word_tokenize(text)\n",
    "\n",
    "    # Remove non-alphanumeric tokens\n",
    "    y = [i for i in text if i.isalnum()]\n",
    "\n",
    "    # Remove stopwords and punctuation\n",
    "    y = [i for i in y if i not in stop_words and i not in string.punctuation]\n",
    "\n",
    "    # Apply stemming\n",
    "    y = [ps.stem(i) for i in y]\n",
    "\n",
    "    # Join the tokens back into a single string\n",
    "    return \" \".join(y)\n",
    "\n",
    "# Assuming df is your DataFrame and 'sms' is the column to be cleaned\n",
    "df['sms_cleaned'] = df['sms'].apply(clean_text)\n"
   ]
  },
  {
   "cell_type": "code",
   "execution_count": 15,
   "metadata": {
    "colab": {
     "base_uri": "https://localhost:8080/",
     "height": 206
    },
    "id": "rRhYTfojBrpP",
    "outputId": "392fd2f7-65b5-450c-d1eb-f6e4ed58d8fc"
   },
   "outputs": [
    {
     "data": {
      "text/html": [
       "<div>\n",
       "<style scoped>\n",
       "    .dataframe tbody tr th:only-of-type {\n",
       "        vertical-align: middle;\n",
       "    }\n",
       "\n",
       "    .dataframe tbody tr th {\n",
       "        vertical-align: top;\n",
       "    }\n",
       "\n",
       "    .dataframe thead th {\n",
       "        text-align: right;\n",
       "    }\n",
       "</style>\n",
       "<table border=\"1\" class=\"dataframe\">\n",
       "  <thead>\n",
       "    <tr style=\"text-align: right;\">\n",
       "      <th></th>\n",
       "      <th>class</th>\n",
       "      <th>sms</th>\n",
       "      <th>Length</th>\n",
       "      <th>sms_cleaned</th>\n",
       "    </tr>\n",
       "  </thead>\n",
       "  <tbody>\n",
       "    <tr>\n",
       "      <th>0</th>\n",
       "      <td>ham</td>\n",
       "      <td>Go until jurong point, crazy.. Available only ...</td>\n",
       "      <td>111</td>\n",
       "      <td>go jurong point crazi avail bugi n great world...</td>\n",
       "    </tr>\n",
       "    <tr>\n",
       "      <th>1</th>\n",
       "      <td>ham</td>\n",
       "      <td>Ok lar... Joking wif u oni...</td>\n",
       "      <td>29</td>\n",
       "      <td>ok lar joke wif u oni</td>\n",
       "    </tr>\n",
       "    <tr>\n",
       "      <th>2</th>\n",
       "      <td>spam</td>\n",
       "      <td>Free entry in 2 a wkly comp to win FA Cup fina...</td>\n",
       "      <td>155</td>\n",
       "      <td>free entri 2 wkli comp win fa cup final tkt 21...</td>\n",
       "    </tr>\n",
       "    <tr>\n",
       "      <th>3</th>\n",
       "      <td>ham</td>\n",
       "      <td>U dun say so early hor... U c already then say...</td>\n",
       "      <td>49</td>\n",
       "      <td>u dun say earli hor u c alreadi say</td>\n",
       "    </tr>\n",
       "    <tr>\n",
       "      <th>4</th>\n",
       "      <td>ham</td>\n",
       "      <td>Nah I don't think he goes to usf, he lives aro...</td>\n",
       "      <td>61</td>\n",
       "      <td>nah think goe usf live around though</td>\n",
       "    </tr>\n",
       "    <tr>\n",
       "      <th>5</th>\n",
       "      <td>spam</td>\n",
       "      <td>FreeMsg Hey there darling it's been 3 week's n...</td>\n",
       "      <td>147</td>\n",
       "      <td>freemsg hey darl 3 week word back like fun sti...</td>\n",
       "    </tr>\n",
       "    <tr>\n",
       "      <th>6</th>\n",
       "      <td>ham</td>\n",
       "      <td>Even my brother is not like to speak with me. ...</td>\n",
       "      <td>77</td>\n",
       "      <td>even brother like speak treat like aid patent</td>\n",
       "    </tr>\n",
       "    <tr>\n",
       "      <th>7</th>\n",
       "      <td>ham</td>\n",
       "      <td>As per your request 'Melle Melle (Oru Minnamin...</td>\n",
       "      <td>160</td>\n",
       "      <td>per request mell oru minnaminungint nurungu ve...</td>\n",
       "    </tr>\n",
       "    <tr>\n",
       "      <th>8</th>\n",
       "      <td>spam</td>\n",
       "      <td>WINNER!! As a valued network customer you have...</td>\n",
       "      <td>157</td>\n",
       "      <td>winner valu network custom select receivea 900...</td>\n",
       "    </tr>\n",
       "    <tr>\n",
       "      <th>9</th>\n",
       "      <td>spam</td>\n",
       "      <td>Had your mobile 11 months or more? U R entitle...</td>\n",
       "      <td>154</td>\n",
       "      <td>mobil 11 month u r entitl updat latest colour ...</td>\n",
       "    </tr>\n",
       "    <tr>\n",
       "      <th>10</th>\n",
       "      <td>ham</td>\n",
       "      <td>I'm gonna be home soon and i don't want to tal...</td>\n",
       "      <td>109</td>\n",
       "      <td>gon na home soon want talk stuff anymor tonigh...</td>\n",
       "    </tr>\n",
       "    <tr>\n",
       "      <th>11</th>\n",
       "      <td>spam</td>\n",
       "      <td>SIX chances to win CASH! From 100 to 20,000 po...</td>\n",
       "      <td>136</td>\n",
       "      <td>six chanc win cash 100 pound txt csh11 send co...</td>\n",
       "    </tr>\n",
       "    <tr>\n",
       "      <th>12</th>\n",
       "      <td>spam</td>\n",
       "      <td>URGENT! You have won a 1 week FREE membership ...</td>\n",
       "      <td>155</td>\n",
       "      <td>urgent 1 week free membership prize jackpot tx...</td>\n",
       "    </tr>\n",
       "    <tr>\n",
       "      <th>13</th>\n",
       "      <td>ham</td>\n",
       "      <td>I've been searching for the right words to tha...</td>\n",
       "      <td>196</td>\n",
       "      <td>search right word thank breather promis wont t...</td>\n",
       "    </tr>\n",
       "    <tr>\n",
       "      <th>14</th>\n",
       "      <td>ham</td>\n",
       "      <td>I HAVE A DATE ON SUNDAY WITH WILL!!</td>\n",
       "      <td>35</td>\n",
       "      <td>date sunday</td>\n",
       "    </tr>\n",
       "    <tr>\n",
       "      <th>15</th>\n",
       "      <td>spam</td>\n",
       "      <td>XXXMobileMovieClub: To use your credit, click ...</td>\n",
       "      <td>149</td>\n",
       "      <td>xxxmobilemovieclub use credit click wap link n...</td>\n",
       "    </tr>\n",
       "    <tr>\n",
       "      <th>16</th>\n",
       "      <td>ham</td>\n",
       "      <td>Oh k...i'm watching here:)</td>\n",
       "      <td>26</td>\n",
       "      <td>oh k watch</td>\n",
       "    </tr>\n",
       "    <tr>\n",
       "      <th>17</th>\n",
       "      <td>ham</td>\n",
       "      <td>Eh u remember how 2 spell his name... Yes i di...</td>\n",
       "      <td>81</td>\n",
       "      <td>eh u rememb 2 spell name ye v naughti make v wet</td>\n",
       "    </tr>\n",
       "    <tr>\n",
       "      <th>18</th>\n",
       "      <td>ham</td>\n",
       "      <td>Fine if that?s the way u feel. That?s the way ...</td>\n",
       "      <td>56</td>\n",
       "      <td>fine way u feel way gota b</td>\n",
       "    </tr>\n",
       "    <tr>\n",
       "      <th>19</th>\n",
       "      <td>spam</td>\n",
       "      <td>England v Macedonia - dont miss the goals/team...</td>\n",
       "      <td>156</td>\n",
       "      <td>england v macedonia dont miss news txt ur nati...</td>\n",
       "    </tr>\n",
       "    <tr>\n",
       "      <th>20</th>\n",
       "      <td>ham</td>\n",
       "      <td>Is that seriously how you spell his name?</td>\n",
       "      <td>41</td>\n",
       "      <td>serious spell name</td>\n",
       "    </tr>\n",
       "    <tr>\n",
       "      <th>21</th>\n",
       "      <td>ham</td>\n",
       "      <td>I?? going to try for 2 months ha ha only joking</td>\n",
       "      <td>47</td>\n",
       "      <td>go tri 2 month ha ha joke</td>\n",
       "    </tr>\n",
       "    <tr>\n",
       "      <th>22</th>\n",
       "      <td>ham</td>\n",
       "      <td>So ?_ pay first lar... Then when is da stock c...</td>\n",
       "      <td>53</td>\n",
       "      <td>pay first lar da stock comin</td>\n",
       "    </tr>\n",
       "    <tr>\n",
       "      <th>23</th>\n",
       "      <td>ham</td>\n",
       "      <td>Aft i finish my lunch then i go str down lor. ...</td>\n",
       "      <td>88</td>\n",
       "      <td>aft finish lunch go str lor ard 3 smth lor u f...</td>\n",
       "    </tr>\n",
       "    <tr>\n",
       "      <th>24</th>\n",
       "      <td>ham</td>\n",
       "      <td>Ffffffffff. Alright no way I can meet up with ...</td>\n",
       "      <td>57</td>\n",
       "      <td>ffffffffff alright way meet sooner</td>\n",
       "    </tr>\n",
       "    <tr>\n",
       "      <th>25</th>\n",
       "      <td>ham</td>\n",
       "      <td>Just forced myself to eat a slice. I'm really ...</td>\n",
       "      <td>144</td>\n",
       "      <td>forc eat slice realli hungri tho suck mark get...</td>\n",
       "    </tr>\n",
       "    <tr>\n",
       "      <th>26</th>\n",
       "      <td>ham</td>\n",
       "      <td>Lol your always so convincing.</td>\n",
       "      <td>30</td>\n",
       "      <td>lol alway convinc</td>\n",
       "    </tr>\n",
       "    <tr>\n",
       "      <th>27</th>\n",
       "      <td>ham</td>\n",
       "      <td>Did you catch the bus ? Are you frying an egg ...</td>\n",
       "      <td>134</td>\n",
       "      <td>catch bu fri egg make tea eat mom left dinner ...</td>\n",
       "    </tr>\n",
       "    <tr>\n",
       "      <th>28</th>\n",
       "      <td>ham</td>\n",
       "      <td>I'm back &amp;amp; we're packing the car now, I'll...</td>\n",
       "      <td>75</td>\n",
       "      <td>back amp pack car let know room</td>\n",
       "    </tr>\n",
       "    <tr>\n",
       "      <th>29</th>\n",
       "      <td>ham</td>\n",
       "      <td>Ahhh. Work. I vaguely remember that! What does...</td>\n",
       "      <td>64</td>\n",
       "      <td>ahhh work vagu rememb feel like lol</td>\n",
       "    </tr>\n",
       "    <tr>\n",
       "      <th>30</th>\n",
       "      <td>ham</td>\n",
       "      <td>Wait that's still not all that clear, were you...</td>\n",
       "      <td>130</td>\n",
       "      <td>wait still clear sure sarcast x want live us</td>\n",
       "    </tr>\n",
       "    <tr>\n",
       "      <th>31</th>\n",
       "      <td>ham</td>\n",
       "      <td>Yeah he got in at 2 and was v apologetic. n ha...</td>\n",
       "      <td>189</td>\n",
       "      <td>yeah got 2 v apologet n fallen actin like spoi...</td>\n",
       "    </tr>\n",
       "    <tr>\n",
       "      <th>32</th>\n",
       "      <td>ham</td>\n",
       "      <td>K tell me anything about you.</td>\n",
       "      <td>29</td>\n",
       "      <td>k tell anyth</td>\n",
       "    </tr>\n",
       "    <tr>\n",
       "      <th>33</th>\n",
       "      <td>ham</td>\n",
       "      <td>For fear of fainting with the of all that hous...</td>\n",
       "      <td>84</td>\n",
       "      <td>fear faint housework quick cuppa</td>\n",
       "    </tr>\n",
       "    <tr>\n",
       "      <th>34</th>\n",
       "      <td>spam</td>\n",
       "      <td>Thanks for your subscription to Ringtone UK yo...</td>\n",
       "      <td>158</td>\n",
       "      <td>thank subscript rington uk mobil charg pleas c...</td>\n",
       "    </tr>\n",
       "    <tr>\n",
       "      <th>35</th>\n",
       "      <td>ham</td>\n",
       "      <td>Yup... Ok i go home look at the timings then i...</td>\n",
       "      <td>123</td>\n",
       "      <td>yup ok go home look time msg xuhui go learn 2n...</td>\n",
       "    </tr>\n",
       "    <tr>\n",
       "      <th>36</th>\n",
       "      <td>ham</td>\n",
       "      <td>Oops, I'll let you know when my roommate's done</td>\n",
       "      <td>47</td>\n",
       "      <td>oop let know roommat done</td>\n",
       "    </tr>\n",
       "    <tr>\n",
       "      <th>37</th>\n",
       "      <td>ham</td>\n",
       "      <td>I see the letter B on my car</td>\n",
       "      <td>28</td>\n",
       "      <td>see letter b car</td>\n",
       "    </tr>\n",
       "    <tr>\n",
       "      <th>38</th>\n",
       "      <td>ham</td>\n",
       "      <td>Anything lor... U decide...</td>\n",
       "      <td>27</td>\n",
       "      <td>anyth lor u decid</td>\n",
       "    </tr>\n",
       "    <tr>\n",
       "      <th>39</th>\n",
       "      <td>ham</td>\n",
       "      <td>Hello! How's you and how did saturday go? I wa...</td>\n",
       "      <td>155</td>\n",
       "      <td>hello saturday go text see decid anyth tomo tr...</td>\n",
       "    </tr>\n",
       "    <tr>\n",
       "      <th>40</th>\n",
       "      <td>ham</td>\n",
       "      <td>Pls go ahead with watts. I just wanted to be s...</td>\n",
       "      <td>82</td>\n",
       "      <td>pl go ahead watt want sure great weekend abiola</td>\n",
       "    </tr>\n",
       "    <tr>\n",
       "      <th>41</th>\n",
       "      <td>ham</td>\n",
       "      <td>Did I forget to tell you ? I want you , I need...</td>\n",
       "      <td>142</td>\n",
       "      <td>forget tell want need crave love sweet arabian...</td>\n",
       "    </tr>\n",
       "    <tr>\n",
       "      <th>42</th>\n",
       "      <td>spam</td>\n",
       "      <td>07732584351 - Rodger Burns - MSG = We tried to...</td>\n",
       "      <td>172</td>\n",
       "      <td>07732584351 rodger burn msg tri call repli sm ...</td>\n",
       "    </tr>\n",
       "    <tr>\n",
       "      <th>43</th>\n",
       "      <td>ham</td>\n",
       "      <td>WHO ARE YOU SEEING?</td>\n",
       "      <td>19</td>\n",
       "      <td>see</td>\n",
       "    </tr>\n",
       "    <tr>\n",
       "      <th>44</th>\n",
       "      <td>ham</td>\n",
       "      <td>Great! I hope you like your man well endowed. ...</td>\n",
       "      <td>72</td>\n",
       "      <td>great hope like man well endow lt gt inch</td>\n",
       "    </tr>\n",
       "    <tr>\n",
       "      <th>45</th>\n",
       "      <td>ham</td>\n",
       "      <td>No calls..messages..missed calls</td>\n",
       "      <td>32</td>\n",
       "      <td>call messag miss call</td>\n",
       "    </tr>\n",
       "    <tr>\n",
       "      <th>46</th>\n",
       "      <td>ham</td>\n",
       "      <td>Didn't you get hep b immunisation in nigeria.</td>\n",
       "      <td>45</td>\n",
       "      <td>get hep b immunis nigeria</td>\n",
       "    </tr>\n",
       "    <tr>\n",
       "      <th>47</th>\n",
       "      <td>ham</td>\n",
       "      <td>Fair enough, anything going on?</td>\n",
       "      <td>31</td>\n",
       "      <td>fair enough anyth go</td>\n",
       "    </tr>\n",
       "    <tr>\n",
       "      <th>48</th>\n",
       "      <td>ham</td>\n",
       "      <td>Yeah hopefully, if tyler can't do it I could m...</td>\n",
       "      <td>67</td>\n",
       "      <td>yeah hope tyler ca could mayb ask around bit</td>\n",
       "    </tr>\n",
       "    <tr>\n",
       "      <th>49</th>\n",
       "      <td>ham</td>\n",
       "      <td>U don't know how stubborn I am. I didn't even ...</td>\n",
       "      <td>148</td>\n",
       "      <td>u know stubborn even want go hospit kept tell ...</td>\n",
       "    </tr>\n",
       "    <tr>\n",
       "      <th>50</th>\n",
       "      <td>ham</td>\n",
       "      <td>What you thinked about me. First time you saw ...</td>\n",
       "      <td>58</td>\n",
       "      <td>think first time saw class</td>\n",
       "    </tr>\n",
       "    <tr>\n",
       "      <th>51</th>\n",
       "      <td>ham</td>\n",
       "      <td>A gram usually runs like  &amp;lt;#&amp;gt; , a half e...</td>\n",
       "      <td>124</td>\n",
       "      <td>gram usual run like lt gt half eighth smarter ...</td>\n",
       "    </tr>\n",
       "    <tr>\n",
       "      <th>52</th>\n",
       "      <td>ham</td>\n",
       "      <td>K fyi x has a ride early tomorrow morning but ...</td>\n",
       "      <td>80</td>\n",
       "      <td>k fyi x ride earli tomorrow morn crash place t...</td>\n",
       "    </tr>\n",
       "    <tr>\n",
       "      <th>53</th>\n",
       "      <td>ham</td>\n",
       "      <td>Wow. I never realized that you were so embaras...</td>\n",
       "      <td>291</td>\n",
       "      <td>wow never realiz embarass accomod thought like...</td>\n",
       "    </tr>\n",
       "    <tr>\n",
       "      <th>54</th>\n",
       "      <td>spam</td>\n",
       "      <td>SMS. ac Sptv: The New Jersey Devils and the De...</td>\n",
       "      <td>120</td>\n",
       "      <td>sm ac sptv new jersey devil detroit red wing p...</td>\n",
       "    </tr>\n",
       "    <tr>\n",
       "      <th>55</th>\n",
       "      <td>ham</td>\n",
       "      <td>Do you know what Mallika Sherawat did yesterda...</td>\n",
       "      <td>76</td>\n",
       "      <td>know mallika sherawat yesterday find lt url gt</td>\n",
       "    </tr>\n",
       "    <tr>\n",
       "      <th>56</th>\n",
       "      <td>spam</td>\n",
       "      <td>Congrats! 1 year special cinema pass for 2 is ...</td>\n",
       "      <td>161</td>\n",
       "      <td>congrat 1 year special cinema pass 2 call 0906...</td>\n",
       "    </tr>\n",
       "    <tr>\n",
       "      <th>57</th>\n",
       "      <td>ham</td>\n",
       "      <td>Sorry, I'll call later in meeting.</td>\n",
       "      <td>34</td>\n",
       "      <td>sorri call later meet</td>\n",
       "    </tr>\n",
       "    <tr>\n",
       "      <th>58</th>\n",
       "      <td>ham</td>\n",
       "      <td>Tell where you reached</td>\n",
       "      <td>22</td>\n",
       "      <td>tell reach</td>\n",
       "    </tr>\n",
       "    <tr>\n",
       "      <th>59</th>\n",
       "      <td>ham</td>\n",
       "      <td>Yes..gauti and sehwag out of odi series.</td>\n",
       "      <td>40</td>\n",
       "      <td>ye gauti sehwag odi seri</td>\n",
       "    </tr>\n",
       "    <tr>\n",
       "      <th>60</th>\n",
       "      <td>ham</td>\n",
       "      <td>Your gonna have to pick up a $1 burger for you...</td>\n",
       "      <td>108</td>\n",
       "      <td>gon na pick 1 burger way home ca even move pai...</td>\n",
       "    </tr>\n",
       "    <tr>\n",
       "      <th>61</th>\n",
       "      <td>ham</td>\n",
       "      <td>Ha ha ha good joke. Girls are situation seekers.</td>\n",
       "      <td>48</td>\n",
       "      <td>ha ha ha good joke girl situat seeker</td>\n",
       "    </tr>\n",
       "    <tr>\n",
       "      <th>62</th>\n",
       "      <td>ham</td>\n",
       "      <td>Its a part of checking IQ</td>\n",
       "      <td>25</td>\n",
       "      <td>part check iq</td>\n",
       "    </tr>\n",
       "    <tr>\n",
       "      <th>63</th>\n",
       "      <td>ham</td>\n",
       "      <td>Sorry my roommates took forever, it ok if I co...</td>\n",
       "      <td>56</td>\n",
       "      <td>sorri roommat took forev ok come</td>\n",
       "    </tr>\n",
       "    <tr>\n",
       "      <th>64</th>\n",
       "      <td>ham</td>\n",
       "      <td>Ok lar i double check wif da hair dresser alre...</td>\n",
       "      <td>110</td>\n",
       "      <td>ok lar doubl check wif da hair dresser alreadi...</td>\n",
       "    </tr>\n",
       "    <tr>\n",
       "      <th>65</th>\n",
       "      <td>spam</td>\n",
       "      <td>As a valued customer, I am pleased to advise y...</td>\n",
       "      <td>152</td>\n",
       "      <td>valu custom pleas advis follow recent review m...</td>\n",
       "    </tr>\n",
       "    <tr>\n",
       "      <th>66</th>\n",
       "      <td>ham</td>\n",
       "      <td>Today is \\song dedicated day..\\\" Which song wi...</td>\n",
       "      <td>124</td>\n",
       "      <td>today dedic day song u dedic send ur valuabl f...</td>\n",
       "    </tr>\n",
       "    <tr>\n",
       "      <th>67</th>\n",
       "      <td>spam</td>\n",
       "      <td>Urgent UR awarded a complimentary trip to Euro...</td>\n",
       "      <td>159</td>\n",
       "      <td>urgent ur award complimentari trip eurodisinc ...</td>\n",
       "    </tr>\n",
       "    <tr>\n",
       "      <th>68</th>\n",
       "      <td>spam</td>\n",
       "      <td>Did you hear about the new \\Divorce Barbie\\\"? ...</td>\n",
       "      <td>80</td>\n",
       "      <td>hear new come ken stuff</td>\n",
       "    </tr>\n",
       "    <tr>\n",
       "      <th>69</th>\n",
       "      <td>ham</td>\n",
       "      <td>I plane to give on this month end.</td>\n",
       "      <td>34</td>\n",
       "      <td>plane give month end</td>\n",
       "    </tr>\n",
       "    <tr>\n",
       "      <th>70</th>\n",
       "      <td>ham</td>\n",
       "      <td>Wah lucky man... Then can save money... Hee...</td>\n",
       "      <td>46</td>\n",
       "      <td>wah lucki man save money hee</td>\n",
       "    </tr>\n",
       "    <tr>\n",
       "      <th>71</th>\n",
       "      <td>ham</td>\n",
       "      <td>Finished class where are you.</td>\n",
       "      <td>29</td>\n",
       "      <td>finish class</td>\n",
       "    </tr>\n",
       "    <tr>\n",
       "      <th>72</th>\n",
       "      <td>ham</td>\n",
       "      <td>HI BABE IM AT HOME NOW WANNA DO SOMETHING? XX</td>\n",
       "      <td>45</td>\n",
       "      <td>hi babe im home wan na someth xx</td>\n",
       "    </tr>\n",
       "    <tr>\n",
       "      <th>73</th>\n",
       "      <td>ham</td>\n",
       "      <td>K..k:)where are you?how did you performed?</td>\n",
       "      <td>42</td>\n",
       "      <td>k k perform</td>\n",
       "    </tr>\n",
       "    <tr>\n",
       "      <th>74</th>\n",
       "      <td>ham</td>\n",
       "      <td>U can call me now...</td>\n",
       "      <td>20</td>\n",
       "      <td>u call</td>\n",
       "    </tr>\n",
       "    <tr>\n",
       "      <th>75</th>\n",
       "      <td>ham</td>\n",
       "      <td>I am waiting machan. Call me once you free.</td>\n",
       "      <td>43</td>\n",
       "      <td>wait machan call free</td>\n",
       "    </tr>\n",
       "    <tr>\n",
       "      <th>76</th>\n",
       "      <td>ham</td>\n",
       "      <td>Thats cool. i am a gentleman and will treat yo...</td>\n",
       "      <td>73</td>\n",
       "      <td>that cool gentleman treat digniti respect</td>\n",
       "    </tr>\n",
       "    <tr>\n",
       "      <th>77</th>\n",
       "      <td>ham</td>\n",
       "      <td>I like you peoples very much:) but am very shy...</td>\n",
       "      <td>50</td>\n",
       "      <td>like peopl much shi pa</td>\n",
       "    </tr>\n",
       "    <tr>\n",
       "      <th>78</th>\n",
       "      <td>ham</td>\n",
       "      <td>Does not operate after  &amp;lt;#&amp;gt;  or what</td>\n",
       "      <td>42</td>\n",
       "      <td>oper lt gt</td>\n",
       "    </tr>\n",
       "    <tr>\n",
       "      <th>79</th>\n",
       "      <td>ham</td>\n",
       "      <td>Its not the same here. Still looking for a job...</td>\n",
       "      <td>76</td>\n",
       "      <td>still look job much ta earn</td>\n",
       "    </tr>\n",
       "    <tr>\n",
       "      <th>80</th>\n",
       "      <td>ham</td>\n",
       "      <td>Sorry, I'll call later</td>\n",
       "      <td>22</td>\n",
       "      <td>sorri call later</td>\n",
       "    </tr>\n",
       "    <tr>\n",
       "      <th>81</th>\n",
       "      <td>ham</td>\n",
       "      <td>K. Did you call me just now ah?</td>\n",
       "      <td>32</td>\n",
       "      <td>call ah</td>\n",
       "    </tr>\n",
       "    <tr>\n",
       "      <th>82</th>\n",
       "      <td>ham</td>\n",
       "      <td>Ok i am on the way to home hi hi</td>\n",
       "      <td>32</td>\n",
       "      <td>ok way home hi hi</td>\n",
       "    </tr>\n",
       "    <tr>\n",
       "      <th>83</th>\n",
       "      <td>ham</td>\n",
       "      <td>You will be in the place of that man</td>\n",
       "      <td>36</td>\n",
       "      <td>place man</td>\n",
       "    </tr>\n",
       "    <tr>\n",
       "      <th>84</th>\n",
       "      <td>ham</td>\n",
       "      <td>Yup next stop.</td>\n",
       "      <td>14</td>\n",
       "      <td>yup next stop</td>\n",
       "    </tr>\n",
       "    <tr>\n",
       "      <th>85</th>\n",
       "      <td>ham</td>\n",
       "      <td>I call you later, don't have network. If urgnt...</td>\n",
       "      <td>55</td>\n",
       "      <td>call later network urgnt sm</td>\n",
       "    </tr>\n",
       "    <tr>\n",
       "      <th>86</th>\n",
       "      <td>ham</td>\n",
       "      <td>For real when u getting on yo? I only need 2 m...</td>\n",
       "      <td>121</td>\n",
       "      <td>real u get yo need 2 ticket one jacket done al...</td>\n",
       "    </tr>\n",
       "    <tr>\n",
       "      <th>87</th>\n",
       "      <td>ham</td>\n",
       "      <td>Yes I started to send requests to make it but ...</td>\n",
       "      <td>144</td>\n",
       "      <td>ye start send request make pain came back back...</td>\n",
       "    </tr>\n",
       "    <tr>\n",
       "      <th>88</th>\n",
       "      <td>ham</td>\n",
       "      <td>I'm really not up to it still tonight babe</td>\n",
       "      <td>42</td>\n",
       "      <td>realli still tonight babe</td>\n",
       "    </tr>\n",
       "    <tr>\n",
       "      <th>89</th>\n",
       "      <td>ham</td>\n",
       "      <td>Ela kano.,il download, come wen ur free..</td>\n",
       "      <td>41</td>\n",
       "      <td>ela il download come wen ur free</td>\n",
       "    </tr>\n",
       "    <tr>\n",
       "      <th>90</th>\n",
       "      <td>ham</td>\n",
       "      <td>Yeah do! Don?? stand to close tho- you??l catc...</td>\n",
       "      <td>58</td>\n",
       "      <td>yeah stand close l catch someth</td>\n",
       "    </tr>\n",
       "    <tr>\n",
       "      <th>91</th>\n",
       "      <td>ham</td>\n",
       "      <td>Sorry to be a pain. Is it ok if we meet anothe...</td>\n",
       "      <td>195</td>\n",
       "      <td>sorri pain ok meet anoth night spent late afte...</td>\n",
       "    </tr>\n",
       "    <tr>\n",
       "      <th>92</th>\n",
       "      <td>ham</td>\n",
       "      <td>Smile in Pleasure Smile in Pain Smile when tro...</td>\n",
       "      <td>141</td>\n",
       "      <td>smile pleasur smile pain smile troubl pour lik...</td>\n",
       "    </tr>\n",
       "    <tr>\n",
       "      <th>93</th>\n",
       "      <td>spam</td>\n",
       "      <td>Please call our customer service representativ...</td>\n",
       "      <td>137</td>\n",
       "      <td>pleas call custom servic repres 0800 169 6031 ...</td>\n",
       "    </tr>\n",
       "    <tr>\n",
       "      <th>94</th>\n",
       "      <td>ham</td>\n",
       "      <td>Havent planning to buy later. I check already ...</td>\n",
       "      <td>107</td>\n",
       "      <td>havent plan buy later check alreadi lido got 5...</td>\n",
       "    </tr>\n",
       "    <tr>\n",
       "      <th>95</th>\n",
       "      <td>spam</td>\n",
       "      <td>Your free ringtone is waiting to be collected....</td>\n",
       "      <td>125</td>\n",
       "      <td>free rington wait collect simpli text password...</td>\n",
       "    </tr>\n",
       "    <tr>\n",
       "      <th>96</th>\n",
       "      <td>ham</td>\n",
       "      <td>Watching telugu movie..wat abt u?</td>\n",
       "      <td>33</td>\n",
       "      <td>watch telugu movi wat abt u</td>\n",
       "    </tr>\n",
       "    <tr>\n",
       "      <th>97</th>\n",
       "      <td>ham</td>\n",
       "      <td>i see. When we finish we have loads of loans t...</td>\n",
       "      <td>51</td>\n",
       "      <td>see finish load loan pay</td>\n",
       "    </tr>\n",
       "    <tr>\n",
       "      <th>98</th>\n",
       "      <td>ham</td>\n",
       "      <td>Hi. Wk been ok - on hols now! Yes on for a bit...</td>\n",
       "      <td>183</td>\n",
       "      <td>hi wk ok hol ye bit run forgot hairdress appoi...</td>\n",
       "    </tr>\n",
       "    <tr>\n",
       "      <th>99</th>\n",
       "      <td>ham</td>\n",
       "      <td>Please don't text me anymore. I have nothing e...</td>\n",
       "      <td>57</td>\n",
       "      <td>pleas text anymor noth els say</td>\n",
       "    </tr>\n",
       "  </tbody>\n",
       "</table>\n",
       "</div>"
      ],
      "text/plain": [
       "   class                                                sms  Length  \\\n",
       "0    ham  Go until jurong point, crazy.. Available only ...     111   \n",
       "1    ham                      Ok lar... Joking wif u oni...      29   \n",
       "2   spam  Free entry in 2 a wkly comp to win FA Cup fina...     155   \n",
       "3    ham  U dun say so early hor... U c already then say...      49   \n",
       "4    ham  Nah I don't think he goes to usf, he lives aro...      61   \n",
       "5   spam  FreeMsg Hey there darling it's been 3 week's n...     147   \n",
       "6    ham  Even my brother is not like to speak with me. ...      77   \n",
       "7    ham  As per your request 'Melle Melle (Oru Minnamin...     160   \n",
       "8   spam  WINNER!! As a valued network customer you have...     157   \n",
       "9   spam  Had your mobile 11 months or more? U R entitle...     154   \n",
       "10   ham  I'm gonna be home soon and i don't want to tal...     109   \n",
       "11  spam  SIX chances to win CASH! From 100 to 20,000 po...     136   \n",
       "12  spam  URGENT! You have won a 1 week FREE membership ...     155   \n",
       "13   ham  I've been searching for the right words to tha...     196   \n",
       "14   ham                I HAVE A DATE ON SUNDAY WITH WILL!!      35   \n",
       "15  spam  XXXMobileMovieClub: To use your credit, click ...     149   \n",
       "16   ham                         Oh k...i'm watching here:)      26   \n",
       "17   ham  Eh u remember how 2 spell his name... Yes i di...      81   \n",
       "18   ham  Fine if that?s the way u feel. That?s the way ...      56   \n",
       "19  spam  England v Macedonia - dont miss the goals/team...     156   \n",
       "20   ham          Is that seriously how you spell his name?      41   \n",
       "21   ham    I?? going to try for 2 months ha ha only joking      47   \n",
       "22   ham  So ?_ pay first lar... Then when is da stock c...      53   \n",
       "23   ham  Aft i finish my lunch then i go str down lor. ...      88   \n",
       "24   ham  Ffffffffff. Alright no way I can meet up with ...      57   \n",
       "25   ham  Just forced myself to eat a slice. I'm really ...     144   \n",
       "26   ham                     Lol your always so convincing.      30   \n",
       "27   ham  Did you catch the bus ? Are you frying an egg ...     134   \n",
       "28   ham  I'm back &amp; we're packing the car now, I'll...      75   \n",
       "29   ham  Ahhh. Work. I vaguely remember that! What does...      64   \n",
       "30   ham  Wait that's still not all that clear, were you...     130   \n",
       "31   ham  Yeah he got in at 2 and was v apologetic. n ha...     189   \n",
       "32   ham                      K tell me anything about you.      29   \n",
       "33   ham  For fear of fainting with the of all that hous...      84   \n",
       "34  spam  Thanks for your subscription to Ringtone UK yo...     158   \n",
       "35   ham  Yup... Ok i go home look at the timings then i...     123   \n",
       "36   ham    Oops, I'll let you know when my roommate's done      47   \n",
       "37   ham                       I see the letter B on my car      28   \n",
       "38   ham                        Anything lor... U decide...      27   \n",
       "39   ham  Hello! How's you and how did saturday go? I wa...     155   \n",
       "40   ham  Pls go ahead with watts. I just wanted to be s...      82   \n",
       "41   ham  Did I forget to tell you ? I want you , I need...     142   \n",
       "42  spam  07732584351 - Rodger Burns - MSG = We tried to...     172   \n",
       "43   ham                                WHO ARE YOU SEEING?      19   \n",
       "44   ham  Great! I hope you like your man well endowed. ...      72   \n",
       "45   ham                   No calls..messages..missed calls      32   \n",
       "46   ham      Didn't you get hep b immunisation in nigeria.      45   \n",
       "47   ham                    Fair enough, anything going on?      31   \n",
       "48   ham  Yeah hopefully, if tyler can't do it I could m...      67   \n",
       "49   ham  U don't know how stubborn I am. I didn't even ...     148   \n",
       "50   ham  What you thinked about me. First time you saw ...      58   \n",
       "51   ham  A gram usually runs like  &lt;#&gt; , a half e...     124   \n",
       "52   ham  K fyi x has a ride early tomorrow morning but ...      80   \n",
       "53   ham  Wow. I never realized that you were so embaras...     291   \n",
       "54  spam  SMS. ac Sptv: The New Jersey Devils and the De...     120   \n",
       "55   ham  Do you know what Mallika Sherawat did yesterda...      76   \n",
       "56  spam  Congrats! 1 year special cinema pass for 2 is ...     161   \n",
       "57   ham                 Sorry, I'll call later in meeting.      34   \n",
       "58   ham                             Tell where you reached      22   \n",
       "59   ham           Yes..gauti and sehwag out of odi series.      40   \n",
       "60   ham  Your gonna have to pick up a $1 burger for you...     108   \n",
       "61   ham   Ha ha ha good joke. Girls are situation seekers.      48   \n",
       "62   ham                          Its a part of checking IQ      25   \n",
       "63   ham  Sorry my roommates took forever, it ok if I co...      56   \n",
       "64   ham  Ok lar i double check wif da hair dresser alre...     110   \n",
       "65  spam  As a valued customer, I am pleased to advise y...     152   \n",
       "66   ham  Today is \\song dedicated day..\\\" Which song wi...     124   \n",
       "67  spam  Urgent UR awarded a complimentary trip to Euro...     159   \n",
       "68  spam  Did you hear about the new \\Divorce Barbie\\\"? ...      80   \n",
       "69   ham                 I plane to give on this month end.      34   \n",
       "70   ham     Wah lucky man... Then can save money... Hee...      46   \n",
       "71   ham                      Finished class where are you.      29   \n",
       "72   ham      HI BABE IM AT HOME NOW WANNA DO SOMETHING? XX      45   \n",
       "73   ham         K..k:)where are you?how did you performed?      42   \n",
       "74   ham                               U can call me now...      20   \n",
       "75   ham        I am waiting machan. Call me once you free.      43   \n",
       "76   ham  Thats cool. i am a gentleman and will treat yo...      73   \n",
       "77   ham  I like you peoples very much:) but am very shy...      50   \n",
       "78   ham         Does not operate after  &lt;#&gt;  or what      42   \n",
       "79   ham  Its not the same here. Still looking for a job...      76   \n",
       "80   ham                             Sorry, I'll call later      22   \n",
       "81   ham                   K. Did you call me just now ah?       32   \n",
       "82   ham                   Ok i am on the way to home hi hi      32   \n",
       "83   ham               You will be in the place of that man      36   \n",
       "84   ham                                     Yup next stop.      14   \n",
       "85   ham  I call you later, don't have network. If urgnt...      55   \n",
       "86   ham  For real when u getting on yo? I only need 2 m...     121   \n",
       "87   ham  Yes I started to send requests to make it but ...     144   \n",
       "88   ham         I'm really not up to it still tonight babe      42   \n",
       "89   ham          Ela kano.,il download, come wen ur free..      41   \n",
       "90   ham  Yeah do! Don?? stand to close tho- you??l catc...      58   \n",
       "91   ham  Sorry to be a pain. Is it ok if we meet anothe...     195   \n",
       "92   ham  Smile in Pleasure Smile in Pain Smile when tro...     141   \n",
       "93  spam  Please call our customer service representativ...     137   \n",
       "94   ham  Havent planning to buy later. I check already ...     107   \n",
       "95  spam  Your free ringtone is waiting to be collected....     125   \n",
       "96   ham                  Watching telugu movie..wat abt u?      33   \n",
       "97   ham  i see. When we finish we have loads of loans t...      51   \n",
       "98   ham  Hi. Wk been ok - on hols now! Yes on for a bit...     183   \n",
       "99   ham  Please don't text me anymore. I have nothing e...      57   \n",
       "\n",
       "                                          sms_cleaned  \n",
       "0   go jurong point crazi avail bugi n great world...  \n",
       "1                               ok lar joke wif u oni  \n",
       "2   free entri 2 wkli comp win fa cup final tkt 21...  \n",
       "3                 u dun say earli hor u c alreadi say  \n",
       "4                nah think goe usf live around though  \n",
       "5   freemsg hey darl 3 week word back like fun sti...  \n",
       "6       even brother like speak treat like aid patent  \n",
       "7   per request mell oru minnaminungint nurungu ve...  \n",
       "8   winner valu network custom select receivea 900...  \n",
       "9   mobil 11 month u r entitl updat latest colour ...  \n",
       "10  gon na home soon want talk stuff anymor tonigh...  \n",
       "11  six chanc win cash 100 pound txt csh11 send co...  \n",
       "12  urgent 1 week free membership prize jackpot tx...  \n",
       "13  search right word thank breather promis wont t...  \n",
       "14                                        date sunday  \n",
       "15  xxxmobilemovieclub use credit click wap link n...  \n",
       "16                                         oh k watch  \n",
       "17   eh u rememb 2 spell name ye v naughti make v wet  \n",
       "18                         fine way u feel way gota b  \n",
       "19  england v macedonia dont miss news txt ur nati...  \n",
       "20                                 serious spell name  \n",
       "21                          go tri 2 month ha ha joke  \n",
       "22                       pay first lar da stock comin  \n",
       "23  aft finish lunch go str lor ard 3 smth lor u f...  \n",
       "24                 ffffffffff alright way meet sooner  \n",
       "25  forc eat slice realli hungri tho suck mark get...  \n",
       "26                                  lol alway convinc  \n",
       "27  catch bu fri egg make tea eat mom left dinner ...  \n",
       "28                    back amp pack car let know room  \n",
       "29                ahhh work vagu rememb feel like lol  \n",
       "30       wait still clear sure sarcast x want live us  \n",
       "31  yeah got 2 v apologet n fallen actin like spoi...  \n",
       "32                                       k tell anyth  \n",
       "33                   fear faint housework quick cuppa  \n",
       "34  thank subscript rington uk mobil charg pleas c...  \n",
       "35  yup ok go home look time msg xuhui go learn 2n...  \n",
       "36                          oop let know roommat done  \n",
       "37                                   see letter b car  \n",
       "38                                  anyth lor u decid  \n",
       "39  hello saturday go text see decid anyth tomo tr...  \n",
       "40    pl go ahead watt want sure great weekend abiola  \n",
       "41  forget tell want need crave love sweet arabian...  \n",
       "42  07732584351 rodger burn msg tri call repli sm ...  \n",
       "43                                                see  \n",
       "44          great hope like man well endow lt gt inch  \n",
       "45                              call messag miss call  \n",
       "46                          get hep b immunis nigeria  \n",
       "47                               fair enough anyth go  \n",
       "48       yeah hope tyler ca could mayb ask around bit  \n",
       "49  u know stubborn even want go hospit kept tell ...  \n",
       "50                         think first time saw class  \n",
       "51  gram usual run like lt gt half eighth smarter ...  \n",
       "52  k fyi x ride earli tomorrow morn crash place t...  \n",
       "53  wow never realiz embarass accomod thought like...  \n",
       "54  sm ac sptv new jersey devil detroit red wing p...  \n",
       "55     know mallika sherawat yesterday find lt url gt  \n",
       "56  congrat 1 year special cinema pass 2 call 0906...  \n",
       "57                              sorri call later meet  \n",
       "58                                         tell reach  \n",
       "59                           ye gauti sehwag odi seri  \n",
       "60  gon na pick 1 burger way home ca even move pai...  \n",
       "61              ha ha ha good joke girl situat seeker  \n",
       "62                                      part check iq  \n",
       "63                   sorri roommat took forev ok come  \n",
       "64  ok lar doubl check wif da hair dresser alreadi...  \n",
       "65  valu custom pleas advis follow recent review m...  \n",
       "66  today dedic day song u dedic send ur valuabl f...  \n",
       "67  urgent ur award complimentari trip eurodisinc ...  \n",
       "68                            hear new come ken stuff  \n",
       "69                               plane give month end  \n",
       "70                       wah lucki man save money hee  \n",
       "71                                       finish class  \n",
       "72                   hi babe im home wan na someth xx  \n",
       "73                                        k k perform  \n",
       "74                                             u call  \n",
       "75                              wait machan call free  \n",
       "76          that cool gentleman treat digniti respect  \n",
       "77                             like peopl much shi pa  \n",
       "78                                         oper lt gt  \n",
       "79                        still look job much ta earn  \n",
       "80                                   sorri call later  \n",
       "81                                            call ah  \n",
       "82                                  ok way home hi hi  \n",
       "83                                          place man  \n",
       "84                                      yup next stop  \n",
       "85                        call later network urgnt sm  \n",
       "86  real u get yo need 2 ticket one jacket done al...  \n",
       "87  ye start send request make pain came back back...  \n",
       "88                          realli still tonight babe  \n",
       "89                   ela il download come wen ur free  \n",
       "90                    yeah stand close l catch someth  \n",
       "91  sorri pain ok meet anoth night spent late afte...  \n",
       "92  smile pleasur smile pain smile troubl pour lik...  \n",
       "93  pleas call custom servic repres 0800 169 6031 ...  \n",
       "94  havent plan buy later check alreadi lido got 5...  \n",
       "95  free rington wait collect simpli text password...  \n",
       "96                        watch telugu movi wat abt u  \n",
       "97                           see finish load loan pay  \n",
       "98  hi wk ok hol ye bit run forgot hairdress appoi...  \n",
       "99                     pleas text anymor noth els say  "
      ]
     },
     "execution_count": 15,
     "metadata": {},
     "output_type": "execute_result"
    }
   ],
   "source": [
    "import pandas as pd\n",
    "\n",
    "# Set display options to avoid truncation\n",
    "pd.set_option('display.max_columns', None)  # Display all columns\n",
    "pd.set_option('display.max_rows', None)     # Display all rows\n",
    "#pd.set_option('display.max_colwidth', None) # Display full column width for text\n",
    "\n",
    "# Now when you print your dataframe, it will show all the data\n",
    "df.head(100)  # Print the first 100 rows of your dataframe\n",
    "\n"
   ]
  },
  {
   "cell_type": "code",
   "execution_count": 18,
   "metadata": {},
   "outputs": [],
   "source": [
    "import regex"
   ]
  },
  {
   "cell_type": "code",
   "execution_count": 19,
   "metadata": {
    "id": "wY7BcvMAB6jA"
   },
   "outputs": [
    {
     "name": "stderr",
     "output_type": "stream",
     "text": [
      "<>:1: SyntaxWarning: invalid escape sequence '\\d'\n",
      "<>:1: SyntaxWarning: invalid escape sequence '\\d'\n",
      "C:\\Users\\THIS PC\\AppData\\Local\\Temp\\ipykernel_33428\\3798447032.py:1: SyntaxWarning: invalid escape sequence '\\d'\n",
      "  df['sms_cleaned']=df['sms_cleaned'].str.replace('\\d+','', regex=True)\n"
     ]
    }
   ],
   "source": [
    "df['sms_cleaned']=df['sms_cleaned'].str.replace('\\d+','', regex=True)"
   ]
  },
  {
   "cell_type": "code",
   "execution_count": 20,
   "metadata": {},
   "outputs": [
    {
     "data": {
      "text/plain": [
       "0    go jurong point crazi avail bugi n great world...\n",
       "1                                ok lar joke wif u oni\n",
       "2    free entri  wkli comp win fa cup final tkt st ...\n",
       "3                  u dun say earli hor u c alreadi say\n",
       "4                 nah think goe usf live around though\n",
       "Name: sms_cleaned, dtype: object"
      ]
     },
     "execution_count": 20,
     "metadata": {},
     "output_type": "execute_result"
    }
   ],
   "source": [
    "df['sms_cleaned'].head()"
   ]
  },
  {
   "cell_type": "markdown",
   "metadata": {},
   "source": [
    "## Build the Vocabulary"
   ]
  },
  {
   "cell_type": "code",
   "execution_count": 28,
   "metadata": {},
   "outputs": [],
   "source": [
    "from collections import Counter\n",
    "vocab =Counter()"
   ]
  },
  {
   "cell_type": "code",
   "execution_count": 29,
   "metadata": {},
   "outputs": [],
   "source": [
    "for sentence in df['sms_cleaned']:\n",
    "    vocab.update(sentence.split())"
   ]
  },
  {
   "cell_type": "code",
   "execution_count": 31,
   "metadata": {},
   "outputs": [
    {
     "data": {
      "text/plain": [
       "6030"
      ]
     },
     "execution_count": 31,
     "metadata": {},
     "output_type": "execute_result"
    }
   ],
   "source": [
    "len(vocab)"
   ]
  },
  {
   "cell_type": "markdown",
   "metadata": {
    "id": "izAuYLRbSL5L"
   },
   "source": [
    "## Feature Extraction"
   ]
  },
  {
   "cell_type": "code",
   "execution_count": 48,
   "metadata": {},
   "outputs": [],
   "source": [
    "import numpy as np\n",
    "\n",
    "def vectorizer(ds,vocabulary):\n",
    "    vectorizer_list=[]\n",
    "    vocab_set=set(vocabulary)\n",
    "    for sentence in ds:\n",
    "        sentence_list=np.zeros(len(vocabulary),dtype=np.float16)\n",
    "        sentence_words=sentence.split()\n",
    "\n",
    "        for i, word in enumerate(vocabulary):\n",
    "            if word in sentence_words:\n",
    "                sentence_list[i]=1\n",
    "        vectorizer_list.append(sentence_list)\n",
    "        \n",
    "        vectorizer_list_new=np.asarray(vectorizer_list, dtype=np.float16)\n",
    "\n",
    "        return vectorizer_list_new"
   ]
  },
  {
   "cell_type": "code",
   "execution_count": 50,
   "metadata": {},
   "outputs": [
    {
     "data": {
      "text/plain": [
       "array([[1., 1., 1., ..., 0., 0., 0.]], dtype=float16)"
      ]
     },
     "execution_count": 50,
     "metadata": {},
     "output_type": "execute_result"
    }
   ],
   "source": [
    "sms_cleaned_vectorizer=vectorizer(df['sms_cleaned'], vocab)\n",
    "sms_cleaned_vectorizer"
   ]
  },
  {
   "cell_type": "code",
   "execution_count": 55,
   "metadata": {},
   "outputs": [
    {
     "data": {
      "text/plain": [
       "(1, 6030)"
      ]
     },
     "execution_count": 55,
     "metadata": {},
     "output_type": "execute_result"
    }
   ],
   "source": [
    "sms_cleaned_vectorizer.shape"
   ]
  },
  {
   "cell_type": "code",
   "execution_count": 64,
   "metadata": {},
   "outputs": [
    {
     "data": {
      "text/plain": [
       "array([[0., 0., 0., ..., 0., 0., 0.]], dtype=float16)"
      ]
     },
     "execution_count": 64,
     "metadata": {},
     "output_type": "execute_result"
    }
   ],
   "source": [
    "y_vectorizer=vectorizer(df['class'],vocab)\n",
    "y_vectorizer"
   ]
  },
  {
   "cell_type": "code",
   "execution_count": 65,
   "metadata": {},
   "outputs": [
    {
     "data": {
      "text/plain": [
       "(1, 6030)"
      ]
     },
     "execution_count": 65,
     "metadata": {},
     "output_type": "execute_result"
    }
   ],
   "source": [
    "y_vectorizer.shape"
   ]
  },
  {
   "cell_type": "code",
   "execution_count": 57,
   "metadata": {},
   "outputs": [
    {
     "data": {
      "text/html": [
       "<div>\n",
       "<style scoped>\n",
       "    .dataframe tbody tr th:only-of-type {\n",
       "        vertical-align: middle;\n",
       "    }\n",
       "\n",
       "    .dataframe tbody tr th {\n",
       "        vertical-align: top;\n",
       "    }\n",
       "\n",
       "    .dataframe thead th {\n",
       "        text-align: right;\n",
       "    }\n",
       "</style>\n",
       "<table border=\"1\" class=\"dataframe\">\n",
       "  <thead>\n",
       "    <tr style=\"text-align: right;\">\n",
       "      <th></th>\n",
       "      <th>class</th>\n",
       "      <th>sms</th>\n",
       "      <th>Length</th>\n",
       "      <th>sms_cleaned</th>\n",
       "    </tr>\n",
       "  </thead>\n",
       "  <tbody>\n",
       "    <tr>\n",
       "      <th>0</th>\n",
       "      <td>ham</td>\n",
       "      <td>Go until jurong point, crazy.. Available only ...</td>\n",
       "      <td>111</td>\n",
       "      <td>go jurong point crazi avail bugi n great world...</td>\n",
       "    </tr>\n",
       "    <tr>\n",
       "      <th>1</th>\n",
       "      <td>ham</td>\n",
       "      <td>Ok lar... Joking wif u oni...</td>\n",
       "      <td>29</td>\n",
       "      <td>ok lar joke wif u oni</td>\n",
       "    </tr>\n",
       "    <tr>\n",
       "      <th>2</th>\n",
       "      <td>spam</td>\n",
       "      <td>Free entry in 2 a wkly comp to win FA Cup fina...</td>\n",
       "      <td>155</td>\n",
       "      <td>free entri  wkli comp win fa cup final tkt st ...</td>\n",
       "    </tr>\n",
       "    <tr>\n",
       "      <th>3</th>\n",
       "      <td>ham</td>\n",
       "      <td>U dun say so early hor... U c already then say...</td>\n",
       "      <td>49</td>\n",
       "      <td>u dun say earli hor u c alreadi say</td>\n",
       "    </tr>\n",
       "    <tr>\n",
       "      <th>4</th>\n",
       "      <td>ham</td>\n",
       "      <td>Nah I don't think he goes to usf, he lives aro...</td>\n",
       "      <td>61</td>\n",
       "      <td>nah think goe usf live around though</td>\n",
       "    </tr>\n",
       "  </tbody>\n",
       "</table>\n",
       "</div>"
      ],
      "text/plain": [
       "  class                                                sms  Length  \\\n",
       "0   ham  Go until jurong point, crazy.. Available only ...     111   \n",
       "1   ham                      Ok lar... Joking wif u oni...      29   \n",
       "2  spam  Free entry in 2 a wkly comp to win FA Cup fina...     155   \n",
       "3   ham  U dun say so early hor... U c already then say...      49   \n",
       "4   ham  Nah I don't think he goes to usf, he lives aro...      61   \n",
       "\n",
       "                                         sms_cleaned  \n",
       "0  go jurong point crazi avail bugi n great world...  \n",
       "1                              ok lar joke wif u oni  \n",
       "2  free entri  wkli comp win fa cup final tkt st ...  \n",
       "3                u dun say earli hor u c alreadi say  \n",
       "4               nah think goe usf live around though  "
      ]
     },
     "execution_count": 57,
     "metadata": {},
     "output_type": "execute_result"
    }
   ],
   "source": [
    "df.head()"
   ]
  },
  {
   "cell_type": "code",
   "execution_count": 59,
   "metadata": {},
   "outputs": [],
   "source": [
    "x= df.drop({'class','sms','Length'}, axis=1)"
   ]
  },
  {
   "cell_type": "code",
   "execution_count": 60,
   "metadata": {},
   "outputs": [
    {
     "data": {
      "text/html": [
       "<div>\n",
       "<style scoped>\n",
       "    .dataframe tbody tr th:only-of-type {\n",
       "        vertical-align: middle;\n",
       "    }\n",
       "\n",
       "    .dataframe tbody tr th {\n",
       "        vertical-align: top;\n",
       "    }\n",
       "\n",
       "    .dataframe thead th {\n",
       "        text-align: right;\n",
       "    }\n",
       "</style>\n",
       "<table border=\"1\" class=\"dataframe\">\n",
       "  <thead>\n",
       "    <tr style=\"text-align: right;\">\n",
       "      <th></th>\n",
       "      <th>sms_cleaned</th>\n",
       "    </tr>\n",
       "  </thead>\n",
       "  <tbody>\n",
       "    <tr>\n",
       "      <th>0</th>\n",
       "      <td>go jurong point crazi avail bugi n great world...</td>\n",
       "    </tr>\n",
       "    <tr>\n",
       "      <th>1</th>\n",
       "      <td>ok lar joke wif u oni</td>\n",
       "    </tr>\n",
       "    <tr>\n",
       "      <th>2</th>\n",
       "      <td>free entri  wkli comp win fa cup final tkt st ...</td>\n",
       "    </tr>\n",
       "    <tr>\n",
       "      <th>3</th>\n",
       "      <td>u dun say earli hor u c alreadi say</td>\n",
       "    </tr>\n",
       "    <tr>\n",
       "      <th>4</th>\n",
       "      <td>nah think goe usf live around though</td>\n",
       "    </tr>\n",
       "  </tbody>\n",
       "</table>\n",
       "</div>"
      ],
      "text/plain": [
       "                                         sms_cleaned\n",
       "0  go jurong point crazi avail bugi n great world...\n",
       "1                              ok lar joke wif u oni\n",
       "2  free entri  wkli comp win fa cup final tkt st ...\n",
       "3                u dun say earli hor u c alreadi say\n",
       "4               nah think goe usf live around though"
      ]
     },
     "execution_count": 60,
     "metadata": {},
     "output_type": "execute_result"
    }
   ],
   "source": [
    "x.head()"
   ]
  },
  {
   "cell_type": "code",
   "execution_count": 61,
   "metadata": {},
   "outputs": [
    {
     "data": {
      "text/plain": [
       "0     ham\n",
       "1     ham\n",
       "2    spam\n",
       "3     ham\n",
       "4     ham\n",
       "Name: class, dtype: object"
      ]
     },
     "execution_count": 61,
     "metadata": {},
     "output_type": "execute_result"
    }
   ],
   "source": [
    "y=df['class']\n",
    "y.head()"
   ]
  },
  {
   "cell_type": "code",
   "execution_count": 51,
   "metadata": {
    "colab": {
     "base_uri": "https://localhost:8080/"
    },
    "id": "cK-uLrt1Uphm",
    "outputId": "6933eed4-790d-4bea-9f50-218cbc3573d3"
   },
   "outputs": [],
   "source": [
    "#from sklearn.feature_extraction.text import TfidfVectorizer\n",
    "\n",
    "#tf_vec= TfidfVectorizer(max_features=2)\n",
    "#X= tf_vec.fit_transform(df['sms_cleaned']).toarray()\n",
    "#y=tf_vec.fit_transform(df['class']).toarray()\n",
    "#y"
   ]
  },
  {
   "cell_type": "code",
   "execution_count": 52,
   "metadata": {
    "colab": {
     "base_uri": "https://localhost:8080/"
    },
    "id": "k9SH2NKnUvn-",
    "outputId": "1fbbdc1a-1d26-4b2e-fa41-7696dfe6eb26"
   },
   "outputs": [],
   "source": [
    "#X.shape"
   ]
  },
  {
   "cell_type": "code",
   "execution_count": 53,
   "metadata": {
    "id": "jXALbBK0Vt_G"
   },
   "outputs": [],
   "source": [
    "#Y = df['class'].copy()"
   ]
  },
  {
   "cell_type": "code",
   "execution_count": 54,
   "metadata": {
    "colab": {
     "base_uri": "https://localhost:8080/"
    },
    "id": "qzeAZQzPV02Y",
    "outputId": "57a22467-3399-441b-e003-1bc3f551bfe4"
   },
   "outputs": [],
   "source": [
    "#Y.head()"
   ]
  },
  {
   "cell_type": "code",
   "execution_count": null,
   "metadata": {
    "id": "WHIPr0rpV2TG"
   },
   "outputs": [],
   "source": []
  },
  {
   "cell_type": "markdown",
   "metadata": {
    "id": "Ad_V-9giWDzQ"
   },
   "source": [
    "## Learning / Training the model"
   ]
  },
  {
   "cell_type": "code",
   "execution_count": 69,
   "metadata": {
    "id": "GqYS2uQKWHwW"
   },
   "outputs": [],
   "source": [
    "from sklearn.model_selection import train_test_split\n",
    "\n",
    "X_train,X_test,y_train,y_test=train_test_split(x, y, test_size=0.2, random_state=42)\n"
   ]
  },
  {
   "cell_type": "code",
   "execution_count": 88,
   "metadata": {},
   "outputs": [
    {
     "data": {
      "text/html": [
       "<div>\n",
       "<style scoped>\n",
       "    .dataframe tbody tr th:only-of-type {\n",
       "        vertical-align: middle;\n",
       "    }\n",
       "\n",
       "    .dataframe tbody tr th {\n",
       "        vertical-align: top;\n",
       "    }\n",
       "\n",
       "    .dataframe thead th {\n",
       "        text-align: right;\n",
       "    }\n",
       "</style>\n",
       "<table border=\"1\" class=\"dataframe\">\n",
       "  <thead>\n",
       "    <tr style=\"text-align: right;\">\n",
       "      <th></th>\n",
       "      <th>sms_cleaned</th>\n",
       "    </tr>\n",
       "  </thead>\n",
       "  <tbody>\n",
       "    <tr>\n",
       "      <th>2228</th>\n",
       "      <td>exact intent</td>\n",
       "    </tr>\n",
       "    <tr>\n",
       "      <th>5529</th>\n",
       "      <td>one</td>\n",
       "    </tr>\n",
       "    <tr>\n",
       "      <th>2149</th>\n",
       "      <td>waaaat lololo ok next time</td>\n",
       "    </tr>\n",
       "    <tr>\n",
       "      <th>5058</th>\n",
       "      <td>free video camera phone half price line rental...</td>\n",
       "    </tr>\n",
       "    <tr>\n",
       "      <th>5051</th>\n",
       "      <td>tick tick tick could die loneli know pout stom...</td>\n",
       "    </tr>\n",
       "  </tbody>\n",
       "</table>\n",
       "</div>"
      ],
      "text/plain": [
       "                                            sms_cleaned\n",
       "2228                                       exact intent\n",
       "5529                                                one\n",
       "2149                         waaaat lololo ok next time\n",
       "5058  free video camera phone half price line rental...\n",
       "5051  tick tick tick could die loneli know pout stom..."
      ]
     },
     "execution_count": 88,
     "metadata": {},
     "output_type": "execute_result"
    }
   ],
   "source": [
    "X_train.head()"
   ]
  },
  {
   "cell_type": "code",
   "execution_count": 72,
   "metadata": {},
   "outputs": [
    {
     "data": {
      "text/plain": [
       "(4135, 1)"
      ]
     },
     "execution_count": 72,
     "metadata": {},
     "output_type": "execute_result"
    }
   ],
   "source": [
    "X_train.shape"
   ]
  },
  {
   "cell_type": "code",
   "execution_count": 73,
   "metadata": {},
   "outputs": [
    {
     "data": {
      "text/plain": [
       "(4135,)"
      ]
     },
     "execution_count": 73,
     "metadata": {},
     "output_type": "execute_result"
    }
   ],
   "source": [
    "y_train.shape"
   ]
  },
  {
   "cell_type": "code",
   "execution_count": 84,
   "metadata": {},
   "outputs": [],
   "source": [
    "import numpy as np\n",
    "\n",
    "def vectorizer(ds,vocabulary):\n",
    "    vectorizer_list=[]\n",
    "    vocab_set=set(vocabulary)\n",
    "    for sentence in ds:\n",
    "        sentence_list=np.zeros(len(vocabulary),dtype=np.float16)\n",
    "        sentence_words=sentence.split()\n",
    "\n",
    "        for i, word in enumerate(vocabulary):\n",
    "            if word in sentence_words:\n",
    "                sentence_list[i]=1\n",
    "        vectorizer_list.append(sentence_list)\n",
    "        \n",
    "        vectorizer_list_new=np.asarray(vectorizer_list, dtype=np.float16)\n",
    "\n",
    "        return vectorizer_list_new"
   ]
  },
  {
   "cell_type": "code",
   "execution_count": 82,
   "metadata": {},
   "outputs": [
    {
     "data": {
      "text/plain": [
       "array([[0., 0., 0., ..., 0., 0., 0.]], dtype=float16)"
      ]
     },
     "execution_count": 82,
     "metadata": {},
     "output_type": "execute_result"
    }
   ],
   "source": [
    "vectorizer_x_train = vectorizer(X_train['sms_cleaned'],vocab)\n",
    "vectorizer_x_train"
   ]
  },
  {
   "cell_type": "code",
   "execution_count": 85,
   "metadata": {},
   "outputs": [
    {
     "data": {
      "text/plain": [
       "(1, 6030)"
      ]
     },
     "execution_count": 85,
     "metadata": {},
     "output_type": "execute_result"
    }
   ],
   "source": [
    "vectorizer_x_train.shape"
   ]
  },
  {
   "cell_type": "code",
   "execution_count": 86,
   "metadata": {},
   "outputs": [
    {
     "data": {
      "text/plain": [
       "array([[0., 0., 0., ..., 0., 0., 0.]], dtype=float16)"
      ]
     },
     "execution_count": 86,
     "metadata": {},
     "output_type": "execute_result"
    }
   ],
   "source": [
    "vectorizer_x_test=vectorizer(X_test['sms_cleaned'],vocab)\n",
    "vectorizer_x_test"
   ]
  },
  {
   "cell_type": "code",
   "execution_count": 89,
   "metadata": {},
   "outputs": [
    {
     "data": {
      "text/plain": [
       "array([[0., 0., 0., ..., 0., 0., 0.]], dtype=float16)"
      ]
     },
     "execution_count": 89,
     "metadata": {},
     "output_type": "execute_result"
    }
   ],
   "source": [
    "vectorizer_y_train=vectorizer(y_train,vocab)\n",
    "vectorizer_y_train"
   ]
  },
  {
   "cell_type": "code",
   "execution_count": 90,
   "metadata": {},
   "outputs": [
    {
     "data": {
      "text/plain": [
       "(1, 6030)"
      ]
     },
     "execution_count": 90,
     "metadata": {},
     "output_type": "execute_result"
    }
   ],
   "source": [
    "vectorizer_y_train.shape"
   ]
  },
  {
   "cell_type": "code",
   "execution_count": 91,
   "metadata": {},
   "outputs": [
    {
     "data": {
      "text/plain": [
       "array([[0., 0., 0., ..., 0., 0., 0.]], dtype=float16)"
      ]
     },
     "execution_count": 91,
     "metadata": {},
     "output_type": "execute_result"
    }
   ],
   "source": [
    "vectorizer_y_test=vectorizer(y_test,vocab)\n",
    "vectorizer_y_test"
   ]
  },
  {
   "cell_type": "code",
   "execution_count": null,
   "metadata": {},
   "outputs": [],
   "source": []
  },
  {
   "cell_type": "code",
   "execution_count": null,
   "metadata": {},
   "outputs": [],
   "source": [
    "from sklearn.naive_bayes import MultinomialNB\n",
    "\n",
    "model = MultinomialNB()\n",
    "model.fit(X_train, y_train)"
   ]
  },
  {
   "cell_type": "code",
   "execution_count": null,
   "metadata": {},
   "outputs": [],
   "source": [
    "from sklearn.metrics import  accuracy_score, classification_report, confusion_matrix\n"
   ]
  },
  {
   "cell_type": "code",
   "execution_count": null,
   "metadata": {},
   "outputs": [],
   "source": [
    "y_pred= model.predict(X_test)\n",
    "print(accuracy_score(y_test,y_pred))"
   ]
  },
  {
   "cell_type": "code",
   "execution_count": null,
   "metadata": {},
   "outputs": [],
   "source": [
    "print(classification_report(y_test,y_pred))"
   ]
  },
  {
   "cell_type": "code",
   "execution_count": null,
   "metadata": {},
   "outputs": [],
   "source": [
    "# Assuming your model is already trained and stored in 'model'\n",
    "\n",
    "# Example new data for testing (replace with your actual test data)\n",
    "new_data = [\"winner valu network custom select receivea 900 prize reward claim call claim code kl341 valid 12 hour\"]\n",
    "\n",
    "# Transform the new data using the same vectorizer used for training\n",
    "X_new = tf_vec.transform(new_data)  # Replace 'vectorizer' with your actual vectorizer object\n",
    "\n",
    "# Make predictions\n",
    "predictions = model.predict(X_new)\n",
    "predictions\n",
    "# Print predictions\n",
    "#for text, prediction in zip(new_data, predictions):\n",
    " #   print(f'Text: {text} --> Predicted: {\"Spam\" if prediction == 1 else \"hamp\"}')\n"
   ]
  },
  {
   "cell_type": "code",
   "execution_count": null,
   "metadata": {
    "colab": {
     "base_uri": "https://localhost:8080/",
     "height": 74
    },
    "id": "dHyf4Y6tXyP4",
    "outputId": "5a483514-73c4-4993-8e64-6c19b6a8a955"
   },
   "outputs": [],
   "source": [
    "import pickle\n",
    "\n",
    "# Save the model and vectorizer\n",
    "with open('spam_classifier.pkl', 'wb') as model_file:\n",
    "    pickle.dump(model, model_file)\n",
    "\n",
    "with open('tfidf_vectorizer.pkl', 'wb') as vectorizer_file:\n",
    "    pickle.dump(tf_vec, vectorizer_file)\n"
   ]
  }
 ],
 "metadata": {
  "accelerator": "TPU",
  "colab": {
   "authorship_tag": "ABX9TyN4OILonUogIPQtAL6VAbY6",
   "gpuType": "V28",
   "include_colab_link": true,
   "mount_file_id": "1bStaeVRQGNlSRf1k9bO3UEid67uG-i86",
   "provenance": []
  },
  "kernelspec": {
   "display_name": "Python 3 (ipykernel)",
   "language": "python",
   "name": "python3"
  },
  "language_info": {
   "codemirror_mode": {
    "name": "ipython",
    "version": 3
   },
   "file_extension": ".py",
   "mimetype": "text/x-python",
   "name": "python",
   "nbconvert_exporter": "python",
   "pygments_lexer": "ipython3",
   "version": "3.12.1"
  }
 },
 "nbformat": 4,
 "nbformat_minor": 4
}
